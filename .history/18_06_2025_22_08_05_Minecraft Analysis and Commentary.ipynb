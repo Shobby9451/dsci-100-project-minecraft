{
 "cells": [
  {
   "cell_type": "markdown",
   "id": "0643e34b-f9c0-4aba-9cbd-dd69a6b478d6",
   "metadata": {},
   "source": [
    "# Crafting Subscriptions: Can Player Demographics in Minecraft Predict Game-related Newsletter Subscriptions?"
   ]
  },
  {
   "cell_type": "markdown",
   "id": "de799def-3d92-4087-8e51-71413745ef3b",
   "metadata": {},
   "source": [
    "\n",
    "![](https://media3.giphy.com/media/v1.Y2lkPTc5MGI3NjExN2lxcTc5OTdpcmV2bWllaDRtMzhpOGpqMzhuemY5eWkwdXFqN3luNSZlcD12MV9pbnRlcm5hbF9naWZfYnlfaWQmY3Q9Zw/AHpC7mG5fOaA3cgYw1/giphy.gif)"
   ]
  },
  {
   "cell_type": "markdown",
   "id": "c4c3999f-996f-4019-b3f1-010cdfa91367",
   "metadata": {},
   "source": [
    "# Introduction\n",
    "While computer science students are often thought of being swamped with course work and personal projects, they actually love spending free time on the world's most popular video game: Minecraft! \n",
    "\n",
    "In particular, a research group of computer science students at UBC loved playing Minecraft so much, they decided to collect data on how people play video games and if we can use the data derived from sessions to make certain predictions about player behaviour. Minecraft servers are expensive to setup and maintain. Thus, to faciliate the research effectively, they need to be able to target Minecraft enthusiasts while simultaneously making sure that they have enough server capacity on hand. \n",
    "\n",
    "Being a kind data scientist (and commerce student) myself, I thought to help the group identify which players have the potential to become engaged and interested in the broader project by uncovering the characteristics that are correlated to being a newsletter subscriber. "
   ]
  },
  {
   "cell_type": "markdown",
   "id": "e1d22c4b-0751-46e9-ae53-5c2ff239eec2",
   "metadata": {},
   "source": [
    "# The Question \n",
    "The formal question this analysis attempts to answer is: Can player demographics, played hours and age, predict whether a new player is going to be a newsletter subscriber? Answering this question and determining the factors that affect if a new player will be subscriber can provide insightful information to the research group. \n",
    "\n",
    "Knowing which players are more inclined to subscribe helps the research group determine who to target to recruit to the Minecraft server. A key assumption made is that players who subscribe are also players who are more engaged in the broader project, which can lead to richer data collection (more sessions played, more responsiveness to surveys, etc). Another useful insight that the research group can obtain is that video games often have certain subscription services (battle pass in Fortnite, Nintendo game passes, etc) and perhaps knowing the factors that determine the subsciption rates of their Minecraft-related newsletter can help them gain intuition in subscribing tendencies of other games. \n",
    "\n",
    "Now that we know the question we are trying to solve, as well as the implications and benefits for the amazing group of UBC computer science students. Let us start the analysis (and code)!"
   ]
  },
  {
   "cell_type": "markdown",
   "id": "79ba1936-f3df-41d8-959f-3054a7497709",
   "metadata": {},
   "source": [
    "# Analysis (and Code)!\n",
    "\n",
    "Before we start our analysis, it is important to load in the necessary packages needed to load, wrangle, and visualize our data. "
   ]
  },
  {
   "cell_type": "code",
   "execution_count": null,
   "id": "c8e9406d-d449-4963-9c24-d969d1c3cfd8",
   "metadata": {},
   "outputs": [],
   "source": [
    "# run before continuing \n",
    "library(tidyverse)\n",
    "library(dplyr)\n",
    "library(repr)\n",
    "library(tidymodels)"
   ]
  },
  {
   "cell_type": "markdown",
   "id": "baea14a9-b229-4c55-aff5-c2e19d8a6043",
   "metadata": {},
   "source": [
    "Before we start, let's also set our seed for the rest of the analysis to make sure our results are reproducible."
   ]
  },
  {
   "cell_type": "code",
   "execution_count": null,
   "id": "7864817b-3c4b-4f47-9f58-8aa5f0f52bf2",
   "metadata": {},
   "outputs": [],
   "source": [
    "# set our seed\n",
    "set.seed(2025) "
   ]
  },
  {
   "cell_type": "markdown",
   "id": "b5272f92-c130-441f-9d61-449bd1fa3578",
   "metadata": {},
   "source": [
    "Now that the seed is set, let's load in our `players.csv` file under the `data` folder in our current directory. This is going to be main dataset we will be working with to answer our classification problem. \n",
    "\n",
    "\n"
   ]
  },
  {
   "cell_type": "code",
   "execution_count": null,
   "id": "146fba8d-2424-47ca-81f2-6989a35742b1",
   "metadata": {},
   "outputs": [],
   "source": [
    "# loading in our dataset \n",
    "players <- read_csv(\"data/players.csv\")\n",
    "\n",
    "players"
   ]
  },
  {
   "cell_type": "markdown",
   "id": "c69a5dfd-ca83-4617-8dd7-062c00d397f7",
   "metadata": {},
   "source": [
    "Looking at our dataset, it is clear that there is many steps to take to prepare our dataset for analysis. For a first step, lets `select` the `subscribe`, `played_hours`, and `Age` columns as those are the relevant variables for our analysis."
   ]
  },
  {
   "cell_type": "code",
   "execution_count": null,
   "id": "7b446edf-99bb-4eef-915b-abb08ee3bbb0",
   "metadata": {},
   "outputs": [],
   "source": [
    "# removing hashed email and name columns from our dataset\n",
    "players_clean <- players |>\n",
    "    select(subscribe, played_hours, Age)\n",
    "\n",
    "players_clean"
   ]
  },
  {
   "cell_type": "markdown",
   "id": "ff2e5d3b-fc5a-4673-819b-656cc2699b38",
   "metadata": {},
   "source": [
    "Next, we need to convert our `subscribe` data type into a factor as this is the varible we will be classifying. Let's do this now."
   ]
  },
  {
   "cell_type": "code",
   "execution_count": null,
   "id": "49db10e0-0f0c-48ca-81d4-53df3a069634",
   "metadata": {},
   "outputs": [],
   "source": [
    "# convert subscribe into factor data type\n",
    "players_clean_factored <- players_clean |>\n",
    "    mutate(subscribe = as.factor(subscribe))\n",
    "\n",
    "players_clean_factored"
   ]
  },
  {
   "cell_type": "markdown",
   "id": "5cc62bce-b4bc-4431-afc5-9ed15585a90e",
   "metadata": {},
   "source": [
    "Before we build our model, it is nice to visualize the relationship between the two variables and how the points are classifed in our dataset. Let's build a scatterplot now with `Age` on the x-axis, `played_hours` on the y-axis, and colour the points using the `subscribe` column."
   ]
  },
  {
   "cell_type": "code",
   "execution_count": null,
   "id": "978ac805-31d3-46e4-99d6-260e995d36b7",
   "metadata": {},
   "outputs": [],
   "source": [
    "# create our scatterplot\n",
    "players_plot <- players_clean_factored |>\n",
    "    ggplot(aes(x = Age, y = played_hours, colour = subscribe)) +\n",
    "    geom_point() +\n",
    "    xlab(\"Age (in years)\") +\n",
    "    ylab(\"Number of Played Hours\") +\n",
    "    ggtitle(\"Scatterplot of Age and Number of Played Hours of Minecraft Players\")\n",
    "\n",
    "players_plot"
   ]
  },
  {
   "cell_type": "markdown",
   "id": "9d5232a0-c89f-4bfe-adbc-560455030b21",
   "metadata": {},
   "source": [
    "# Wait, there seems to be no obvious correlation ...\n",
    "We can see that on the surface level, there is no strong evidence that age and number of hours played can be useful in predicting possible newsletter subscriptions. However, let's not panic, we can still see that newsletter subscribers are generally younger in age and play more hours than non-subscribers. \n",
    "\n",
    "To gain a better more insight, let's build our classification model using k-nearest neighbors to see if we can accurately predict if someone is going to be a newsletter subscriber based on age and number of hours played on the Minecraft server. \n",
    "\n",
    "Remembering to link this back to our initial question and purpose, knowing the variables that help us accurately predict possible new player subscription can help the research group determine which demographic they should target for the study. Furthermore, being able to accurately classify subscribers based on demographics, in our case age and hours played, can help the research group determine who to approach when asking for more in-depth data or research in the future"
   ]
  },
  {
   "cell_type": "code",
   "execution_count": null,
   "id": "17704159-ddc6-4059-bdfc-0209941a1e3b",
   "metadata": {},
   "outputs": [],
   "source": []
  }
 ],
 "metadata": {
  "kernelspec": {
   "display_name": "R",
   "language": "R",
   "name": "ir"
  },
  "language_info": {
   "codemirror_mode": "r",
   "file_extension": ".r",
   "mimetype": "text/x-r-source",
   "name": "R",
   "pygments_lexer": "r",
   "version": "4.3.3"
  }
 },
 "nbformat": 4,
 "nbformat_minor": 5
}
