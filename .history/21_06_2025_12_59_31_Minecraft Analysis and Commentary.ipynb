{
 "cells": [
  {
   "cell_type": "markdown",
   "id": "0643e34b-f9c0-4aba-9cbd-dd69a6b478d6",
   "metadata": {},
   "source": [
    "# Crafting Subscriptions: Can Player Demographics in Minecraft Predict Game-related Newsletter Subscriptions?"
   ]
  },
  {
   "cell_type": "markdown",
   "id": "de799def-3d92-4087-8e51-71413745ef3b",
   "metadata": {},
   "source": [
    "\n",
    "![](https://media3.giphy.com/media/v1.Y2lkPTc5MGI3NjExN2lxcTc5OTdpcmV2bWllaDRtMzhpOGpqMzhuemY5eWkwdXFqN3luNSZlcD12MV9pbnRlcm5hbF9naWZfYnlfaWQmY3Q9Zw/AHpC7mG5fOaA3cgYw1/giphy.gif)"
   ]
  },
  {
   "cell_type": "markdown",
   "id": "c4c3999f-996f-4019-b3f1-010cdfa91367",
   "metadata": {},
   "source": [
    "# Introduction\n",
    "While computer science students are often thought of being swamped with course work and personal projects, they actually love spending free time on the world's most popular video game: Minecraft! \n",
    "\n",
    "In particular, a research group of computer science students at UBC loved playing Minecraft so much, they decided to collect data on how people play video games and if we can use the data derived from sessions to make certain predictions about player behaviour. Minecraft servers are expensive to setup and maintain. Thus, to faciliate the research effectively, they need to be able to target Minecraft enthusiasts while simultaneously making sure that they have enough server capacity on hand. \n",
    "\n",
    "Being a kind data scientist (and commerce student) myself, I thought to help the group identify which players have the potential to become engaged and interested in the broader project by uncovering the characteristics that are correlated to being a newsletter subscriber. "
   ]
  },
  {
   "cell_type": "markdown",
   "id": "e1d22c4b-0751-46e9-ae53-5c2ff239eec2",
   "metadata": {},
   "source": [
    "# The Question \n",
    "The formal question this analysis attempts to answer is: Can player demographics, played hours and age, predict whether a new player is going to be a newsletter subscriber? Answering this question and determining the factors that affect if a new player will be subscriber can provide insightful information to the research group. \n",
    "\n",
    "Knowing which players are more inclined to subscribe helps the research group determine who to target to recruit to the Minecraft server. A key assumption made is that players who subscribe are also players who are more engaged in the broader project, which can lead to richer data collection (more sessions played, more responsiveness to surveys, etc). Another useful insight that the research group can obtain is that video games often have certain subscription services (battle pass in Fortnite, Nintendo game passes, etc) and perhaps knowing the factors that determine the subsciption rates of their Minecraft-related newsletter can help them gain intuition in subscribing tendencies of other games. \n",
    "\n",
    "Now that we know the question we are trying to solve, as well as the implications and benefits for the amazing group of UBC computer science students. Let us start the analysis (and code)!"
   ]
  },
  {
   "cell_type": "markdown",
   "id": "79ba1936-f3df-41d8-959f-3054a7497709",
   "metadata": {},
   "source": [
    "# Analysis (and Code)!\n",
    "\n",
    "Before we start our analysis, it is important to load in the necessary packages needed to load, wrangle, and visualize our data. "
   ]
  },
  {
   "cell_type": "code",
   "execution_count": null,
   "id": "c8e9406d-d449-4963-9c24-d969d1c3cfd8",
   "metadata": {},
   "outputs": [],
   "source": [
    "# run before continuing \n",
    "library(tidyverse)\n",
    "library(dplyr)\n",
    "library(repr)\n",
    "library(tidymodels)\n",
    "library(yardstick)"
   ]
  },
  {
   "cell_type": "markdown",
   "id": "baea14a9-b229-4c55-aff5-c2e19d8a6043",
   "metadata": {},
   "source": [
    "Before we start, let's also set our seed for the rest of the analysis to make sure our results are reproducible."
   ]
  },
  {
   "cell_type": "code",
   "execution_count": null,
   "id": "7864817b-3c4b-4f47-9f58-8aa5f0f52bf2",
   "metadata": {},
   "outputs": [],
   "source": [
    "# set our seed\n",
    "set.seed(2025) "
   ]
  },
  {
   "cell_type": "markdown",
   "id": "b5272f92-c130-441f-9d61-449bd1fa3578",
   "metadata": {},
   "source": [
    "Now that the seed is set, let's load in our `players.csv` file under the `data` folder in our current directory. This is going to be main dataset we will be working with to answer our classification problem. \n",
    "\n",
    "\n"
   ]
  },
  {
   "cell_type": "code",
   "execution_count": null,
   "id": "146fba8d-2424-47ca-81f2-6989a35742b1",
   "metadata": {},
   "outputs": [],
   "source": [
    "# loading in our dataset \n",
    "players <- read_csv(\"data/players.csv\")\n",
    "\n",
    "players"
   ]
  },
  {
   "cell_type": "markdown",
   "id": "c69a5dfd-ca83-4617-8dd7-062c00d397f7",
   "metadata": {},
   "source": [
    "Looking at our dataset, we have 7 variables and 196 observations. However, it is clear that there are many steps to take in order to prepare our dataset for analysis. For a first step, lets `select` the `subscribe`, `played_hours`, and `Age` columns as those are the relevant variables for our analysis."
   ]
  },
  {
   "cell_type": "code",
   "execution_count": null,
   "id": "7b446edf-99bb-4eef-915b-abb08ee3bbb0",
   "metadata": {},
   "outputs": [],
   "source": [
    "# removing hashed email and name columns from our dataset, changing Age column to lower case\n",
    "players_clean <- players |>\n",
    "    select(subscribe, played_hours, Age) |>\n",
    "    rename(age = Age)\n",
    "\n",
    "players_clean"
   ]
  },
  {
   "cell_type": "markdown",
   "id": "ff2e5d3b-fc5a-4673-819b-656cc2699b38",
   "metadata": {},
   "source": [
    "Next, we need to convert our `subscribe` data type into a factor as this is the varible we will be classifying. We also notice that there are possible NA values in our dataset. Let's convert our `subscribe` data type and remove any rows with NA values now."
   ]
  },
  {
   "cell_type": "code",
   "execution_count": null,
   "id": "49db10e0-0f0c-48ca-81d4-53df3a069634",
   "metadata": {},
   "outputs": [],
   "source": [
    "# convert subscribe into factor data type and remove NA values\n",
    "players_clean_factored <- players_clean |>\n",
    "    mutate(subscribe = as.factor(subscribe)) |>\n",
    "    drop_na()\n",
    "\n",
    "players_clean_factored"
   ]
  },
  {
   "cell_type": "markdown",
   "id": "5cc62bce-b4bc-4431-afc5-9ed15585a90e",
   "metadata": {},
   "source": [
    "Before we build our model, it is nice to visualize the relationship between the two variables and how the points are classifed in our dataset. Let's build a scatterplot now with `Age` on the x-axis, `played_hours` on the y-axis, and colour the points using the `subscribe` column."
   ]
  },
  {
   "cell_type": "code",
   "execution_count": null,
   "id": "978ac805-31d3-46e4-99d6-260e995d36b7",
   "metadata": {},
   "outputs": [],
   "source": [
    "# create our scatterplot\n",
    "players_plot <- players_clean_factored |>\n",
    "    ggplot(aes(x = age, y = played_hours, colour = subscribe)) +\n",
    "    geom_point() +\n",
    "    xlab(\"Age (in years)\") +\n",
    "    ylab(\"Number of Played Hours\") +\n",
    "    ggtitle(\"Scatterplot of Age and Number of Played Hours of Minecraft Players\")\n",
    "\n",
    "players_plot"
   ]
  },
  {
   "cell_type": "markdown",
   "id": "9d5232a0-c89f-4bfe-adbc-560455030b21",
   "metadata": {},
   "source": [
    "# Wait, there seems to be no obvious correlation ...\n",
    "\n",
    "![](https://media4.giphy.com/media/v1.Y2lkPTc5MGI3NjExNTV3emplajljMnd5YXR4dzEyOWQzcWZseGxuYzEzdnJ2eTNsMTd3eiZlcD12MV9pbnRlcm5hbF9naWZfYnlfaWQmY3Q9Zw/GntpLR18f4b8Uu8GzO/giphy.gif)\n",
    "\n",
    "We can see that on the surface level, there is no strong evidence that age and number of hours played can be useful in predicting possible newsletter subscriptions. However, let's not panic, we can still see that newsletter subscribers are generally younger in age and play more hours than non-subscribers. \n",
    "\n",
    "To gain a better more insight, let's build our classification model using k-nearest neighbors to see if we can accurately predict if someone is going to be a newsletter subscriber based on age and number of hours played on the Minecraft server. \n",
    "\n",
    "Remembering to link this back to our initial question and purpose, knowing the variables that help us accurately predict possible new player subscription can help the research group determine which demographic they should target for the study. Furthermore, being able to accurately classify subscribers based on demographics, in our case age and hours played, can help the research group determine who to approach when asking for more in-depth data or research in the future"
   ]
  },
  {
   "cell_type": "markdown",
   "id": "129ef4da-77d9-4c9d-b4d7-dbea26e7daca",
   "metadata": {},
   "source": [
    "# K-Nearest Neighbours Classification Model "
   ]
  },
  {
   "cell_type": "markdown",
   "id": "f7e6d71b-0cae-410e-a7d7-4204e2474005",
   "metadata": {},
   "source": [
    "First, let's split the data into `training` and `testing` data. Let's specify 75% of our data as training data and 25% of our data as testing data."
   ]
  },
  {
   "cell_type": "code",
   "execution_count": null,
   "id": "25c9f2ae-de43-4421-aae1-03f840efdaaa",
   "metadata": {},
   "outputs": [],
   "source": [
    "# split our data into training and testing data\n",
    "players_split <- initial_split(players_clean_factored, prop = 0.75, strata = subscribe)\n",
    "\n",
    "# assign our data into training and testing data\n",
    "players_training <- training(players_split)\n",
    "players_testing <- testing(players_split)\n",
    "\n",
    "glimpse(players_training)"
   ]
  },
  {
   "cell_type": "markdown",
   "id": "74de26b7-763f-47b5-bd65-3619fca6629a",
   "metadata": {},
   "source": [
    "Now, let's create our `recipe` and `knn` specifications for our model. Then, we need to conduct 5-fold validation and for our `recipe`, we will make sure that our variables are centered and scaled to make sure no variables dominate others. For our specification, let's tune our neighbors value in order to find the optimal value for our model."
   ]
  },
  {
   "cell_type": "code",
   "execution_count": null,
   "id": "602b30bd-1ff1-46c7-b1dd-4a33f0aa84b8",
   "metadata": {},
   "outputs": [],
   "source": [
    "# create our recipe and standardize our data \n",
    "players_recipe <- recipe(subscribe ~ played_hours + age, data = players_training) |>\n",
    "    step_center(all_predictors()) |>\n",
    "    step_scale(all_predictors()) \n",
    "\n",
    "# create specification for our model \n",
    "players_spec <- nearest_neighbor(weight_func = \"rectangular\", neighbors = tune()) |>\n",
    "    set_engine(\"kknn\") |>\n",
    "    set_mode(\"classification\")"
   ]
  },
  {
   "cell_type": "markdown",
   "id": "792c3b2b-d604-4217-bf58-55ec3805f6ee",
   "metadata": {},
   "source": [
    "Let's also create our 5-fold cross validation model and our tibble of values we want to test for `K`. For this model, let's try values of `K` from 1 to 10."
   ]
  },
  {
   "cell_type": "code",
   "execution_count": null,
   "id": "1e156c3b-fb6e-4be1-887c-e6d4d575497b",
   "metadata": {},
   "outputs": [],
   "source": [
    "# create our 5-fold cross validation model\n",
    "vfold_players <- vfold_cv(players_training, v = 5, strata = subscribe)\n",
    "\n",
    "# create our tibble for the K values we want to tune to\n",
    "grid_vals <- tibble(neighbors = seq(from = 1, to = 10, by = 1))"
   ]
  },
  {
   "cell_type": "markdown",
   "id": "0123f7ab-7aa5-4d88-9d4a-5d3a54d09737",
   "metadata": {},
   "source": [
    "Now, we can train our model by putting it all together in a workflow! Then, we collect our metrics to see how each value of `K` did."
   ]
  },
  {
   "cell_type": "code",
   "execution_count": null,
   "id": "a45c9387-2d85-4350-917d-21b6d3af3ea7",
   "metadata": {},
   "outputs": [],
   "source": [
    "# train our model by putting it together in a workflow!\n",
    "players_results <- workflow() |>\n",
    "      add_recipe(players_recipe) |>\n",
    "      add_model(players_spec) |>\n",
    "      tune_grid(resamples = vfold_players, grid = grid_vals) |>\n",
    "      collect_metrics()\n",
    "\n",
    "players_results\n"
   ]
  },
  {
   "cell_type": "markdown",
   "id": "6afb23e5-1767-4272-b993-015d61607416",
   "metadata": {},
   "source": [
    "It is difficult to see the best K value in the table that we created. Let's create a visual representation of our results with our `K` values on the x-axis and `accuracies` on the y-axis"
   ]
  },
  {
   "cell_type": "code",
   "execution_count": null,
   "id": "41d6900d-16dc-4e73-b5c3-22bf29c2abdb",
   "metadata": {},
   "outputs": [],
   "source": [
    "# filter for only accuracy metric\n",
    "players_accuracies <- players_results |> \n",
    "      filter(.metric == \"accuracy\")\n",
    "\n",
    "# create our lineplot with points!\n",
    "accuracy_versus_k <- ggplot(players_accuracies, aes(x = neighbors, y = mean))+\n",
    "      geom_point() +\n",
    "      geom_line() +\n",
    "      labs(x = \"Neighbors\", y = \"Accuracy Estimate\") +\n",
    "      scale_x_continuous(breaks = seq(0, 14, by = 1)) +  # adjusting the x-axis\n",
    "      scale_y_continuous(limits = c(0.4, 1.0)) + # adjusting the y-axis \n",
    "      ggtitle(\"Accuracies Versus K Values\")\n",
    "accuracy_versus_k"
   ]
  },
  {
   "cell_type": "markdown",
   "id": "5a9ec5f9-f66e-4e11-8d51-b22a823a0d3d",
   "metadata": {},
   "source": [
    "We can see that the `K` values of 5 and 6 provides the most accuracy for our classification model. Surprisingly, they actually produce the exact same accuracy! One possible reason is that the changing the number of nearest neighbors the classifer uses does not change the predicted subscriber status (either TRUE or FALSE). Let's choose one of the values, 5 in our analysis, to create our model with."
   ]
  },
  {
   "cell_type": "code",
   "execution_count": null,
   "id": "eecdbb18-c08e-4faf-8bae-48e79a7cb51a",
   "metadata": {},
   "outputs": [],
   "source": [
    "# create our new specification with optimal k value\n",
    "players_spec_optimal <- nearest_neighbor(weight_func = \"rectangular\", neighbors = 5) |>\n",
    "    set_engine(\"kknn\") |>\n",
    "    set_mode(\"classification\")\n",
    "\n",
    "# create our model using workflow\n",
    "players_fit <- workflow() |>\n",
    "    add_recipe(players_recipe) |>\n",
    "    add_model(players_spec_optimal) |>\n",
    "    fit(players_training) \n",
    "\n",
    "players_fit"
   ]
  },
  {
   "cell_type": "markdown",
   "id": "62e68a0f-2168-4f76-9015-e1eb55c0c52c",
   "metadata": {},
   "source": [
    "Note that we have been using the `players_training` set so far to train our model to classify the subsciption status so far. Now let's put our model to the test to make predictions of the subsciption status of players the model has never seen before based on `age` and `played_hours`. We need to also show the accuracy of our model using `metrics` as well as create a confusion matrix to gain a deeper insight into our model's accuracy."
   ]
  },
  {
   "cell_type": "code",
   "execution_count": null,
   "id": "9c7c04d5-2a9b-48f8-a17b-e73e54c2cdb4",
   "metadata": {},
   "outputs": [],
   "source": [
    "# make our predictions and bind columns to compare \n",
    "players_predictions <- predict(players_fit, players_testing) |>\n",
    "    bind_cols(players_testing)\n",
    "\n",
    "players_predictions\n",
    "\n",
    "# store metrics in created object\n",
    "players_metrics <- players_predictions |>\n",
    "    metrics(truth = subscribe, estimate = .pred_class)\n",
    "\n",
    "players_metrics\n",
    "\n",
    "# create confusion matrix\n",
    "players_conf_mat <- players_predictions |>\n",
    "    conf_mat(truth = subscribe, estimate = .pred_class)\n",
    "\n",
    "players_conf_mat"
   ]
  },
  {
   "cell_type": "markdown",
   "id": "372179e6-222f-4f0e-b45f-b26283414f7a",
   "metadata": {},
   "source": [
    "Hmm, we can see that our `accuracy` as an percentage while our recall and precision is a bit more difficult to determine. Let's show our recall and precision as a percentage as well."
   ]
  },
  {
   "cell_type": "code",
   "execution_count": null,
   "id": "79662ccc-e49e-45d6-a729-671ffc5ae3d9",
   "metadata": {},
   "outputs": [],
   "source": [
    "precision(players_predictions, truth = subscribe, estimate = .pred_class, event_level = \"second\")\n",
    "recall(players_predictions, truth = subscribe, estimate = .pred_class, event_level = \"second\")"
   ]
  },
  {
   "cell_type": "markdown",
   "id": "9e8ffd38-2bfc-4935-996d-f3b9383bf6f5",
   "metadata": {},
   "source": [
    "# Interpretation of Results and What This Means for the Research Group"
   ]
  },
  {
   "cell_type": "markdown",
   "id": "24721737-0d82-414f-afc3-845eb9054b26",
   "metadata": {},
   "source": [
    "Looking at the `accuracy`, `precision`, and `recall`, we can see that while our `accuracy` is slightly lower at 65% our `recall` (69%) and `precision` (81%) are both higher in percentage. In layman terms, our model is makes the correct prediction 65% of time either predicting if a player is indeed a subsciber or not a subscriber to the game-related newsletter. when it does predict someone to be a subscriber, it is right 81% of time. "
   ]
  }
 ],
 "metadata": {
  "kernelspec": {
   "display_name": "R",
   "language": "R",
   "name": "ir"
  },
  "language_info": {
   "codemirror_mode": "r",
   "file_extension": ".r",
   "mimetype": "text/x-r-source",
   "name": "R",
   "pygments_lexer": "r",
   "version": "4.3.3"
  }
 },
 "nbformat": 4,
 "nbformat_minor": 5
}
